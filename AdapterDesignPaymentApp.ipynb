{
 "cells": [
  {
   "cell_type": "code",
   "execution_count": 7,
   "metadata": {},
   "outputs": [],
   "source": [
    "# Eski ödeme sistemi\n",
    "class OldPaymentSystem:\n",
    "    def __init__(self, username, password):\n",
    "        self.username = username\n",
    "        self.password = password\n",
    "    \n",
    "    def make_payment(self, amount):\n",
    "        # kullanıcı adı ve şifresiyle ödeme yapılan fonksiyon\n",
    "        print(f\"Making payment of {amount} using old payment system with username {self.username} and password {self.password}\")\n",
    "    \n",
    "    def get_payment_status(self):\n",
    "        # ödemenin durumunu getirir.\n",
    "        # göstermek amaçlı tek değer verdim.\n",
    "        return 'SUCCESS'"
   ]
  },
  {
   "cell_type": "code",
   "execution_count": 8,
   "metadata": {},
   "outputs": [],
   "source": [
    "# Yeni ödeme sistemi\n",
    "# yeni ödeme sisteminde sadece bir ID yeterli olacaktır. \n",
    "# Eski ödeme sisteminde kullanıcı adı ve şifre gerekliyken \n",
    "# yeni ödeme sisteminde api_key ve id ile yapılıyor.\n",
    "class NewPaymentSystem:\n",
    "    def __init__(self, api_key):\n",
    "        self.api_key = api_key\n",
    "    \n",
    "    def make_payment_request(self, amount):\n",
    "        # api_key ile ödeme yapılıyor.\n",
    "        print(f\"Making payment of {amount} using new payment system with API key {self.api_key}\")\n",
    "    \n",
    "    def get_payment_status(self, payment_id):        \n",
    "        # ID ve api_key ile yapılan ödemenin durumu id ile sorgulanıyor.\n",
    "        # göstermek amaçlı tek değer verdim.\n",
    "        return 'PAID'"
   ]
  },
  {
   "cell_type": "code",
   "execution_count": 9,
   "metadata": {},
   "outputs": [],
   "source": [
    "# eski ve yeni ödeme sistemin haberleşme görevini yapar\n",
    "class OldToNewPaymentSystemAdapter(NewPaymentSystem):\n",
    "    def __init__(self, old_payment_system, api_key):\n",
    "        self.old_payment_system = old_payment_system\n",
    "        self.api_key = api_key\n",
    "    \n",
    "    def make_payment_request(self, amount):\n",
    "        # Eski ödeme sistemindeki ödeme talebini yeni ödeme sistemi için ödeme talebine dönüştürür\n",
    "        self.old_payment_system.make_payment(amount)\n",
    "    \n",
    "    def get_payment_status(self, payment_id):\n",
    "        # Eski ödeme sistemindeki ödeme durumunu yeni ödeme sistemi ile sorgulama yapar\n",
    "        status = self.old_payment_system.get_payment_status()\n",
    "        if status == 'SUCCESS':\n",
    "            return 'PAID'\n",
    "        elif status == 'PENDING':\n",
    "            return 'IN_PROGRESS'\n",
    "        else:\n",
    "            return 'NOT_PAID'"
   ]
  },
  {
   "cell_type": "code",
   "execution_count": 10,
   "metadata": {},
   "outputs": [
    {
     "name": "stdout",
     "output_type": "stream",
     "text": [
      "Making payment of 100 using old payment system with username haticebuken and password 123456\n",
      "PAID\n"
     ]
    }
   ],
   "source": [
    "old_payment_system = OldPaymentSystem('haticebuken', '123456')\n",
    "new_payment_system = OldToNewPaymentSystemAdapter(old_payment_system, 'KEY1235')\n",
    "\n",
    "# yeni ödeme sistemi arayüzünden ödeme yapılır ve ödeme durumu sorgulanır\n",
    "new_payment_system.make_payment_request(100)\n",
    "status = new_payment_system.get_payment_status(1234)\n",
    "print(status)"
   ]
  }
 ],
 "metadata": {
  "kernelspec": {
   "display_name": "Python 3",
   "language": "python",
   "name": "python3"
  },
  "language_info": {
   "codemirror_mode": {
    "name": "ipython",
    "version": 3
   },
   "file_extension": ".py",
   "mimetype": "text/x-python",
   "name": "python",
   "nbconvert_exporter": "python",
   "pygments_lexer": "ipython3",
   "version": "3.8.9"
  },
  "orig_nbformat": 4
 },
 "nbformat": 4,
 "nbformat_minor": 2
}
