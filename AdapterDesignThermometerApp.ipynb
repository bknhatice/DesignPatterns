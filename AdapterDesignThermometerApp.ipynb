{
 "cells": [
  {
   "cell_type": "code",
   "execution_count": 6,
   "metadata": {},
   "outputs": [],
   "source": [
    "# Adaptee class for Fahrenheit temperature measurement\n",
    "# Fahrenheit termometreden sıcaklık bilgisi getirir\n",
    "class FahrenheitThermometer:\n",
    "    def get_temperature(self):\n",
    "        # Sıcaklık bilgisini döndürür\n",
    "        return 90"
   ]
  },
  {
   "cell_type": "code",
   "execution_count": 7,
   "metadata": {},
   "outputs": [],
   "source": [
    "# Celsius termometreden sıcaklık bilgisi getirir\n",
    "class CelsiusThermometer:\n",
    "    def get_temperature(self):\n",
    "        # Sıcaklık bilgisini döndürür\n",
    "        return 30"
   ]
  },
  {
   "cell_type": "code",
   "execution_count": 8,
   "metadata": {},
   "outputs": [],
   "source": [
    "# FahrenheitThermometer'ın CelsiusThermometer arayüzüne uyumu için FahrenheitToCelsiusAdapter kullanılır\n",
    "class FahrenheitToCelsiusAdapter(CelsiusThermometer):\n",
    "    def __init__(self, fahrenheit_thermometer):\n",
    "        self.fahrenheit_thermometer = fahrenheit_thermometer\n",
    "    \n",
    "    def get_temperature(self):\n",
    "        # Fahrenheit'ten Celsius'a dönüştürme\n",
    "        fahrenheit_temperature = self.fahrenheit_thermometer.get_temperature()\n",
    "        celsius_temperature = (fahrenheit_temperature - 32) * 5/9\n",
    "        return celsius_temperature"
   ]
  },
  {
   "cell_type": "code",
   "execution_count": 9,
   "metadata": {},
   "outputs": [
    {
     "name": "stdout",
     "output_type": "stream",
     "text": [
      "32.22222222222222\n"
     ]
    }
   ],
   "source": [
    "\n",
    "fahrenheit_thermometer = FahrenheitThermometer()\n",
    "celsius_thermometer = FahrenheitToCelsiusAdapter(fahrenheit_thermometer)\n",
    "\n",
    "\n",
    "temperature = celsius_thermometer.get_temperature()\n",
    "print(temperature) "
   ]
  },
  {
   "attachments": {},
   "cell_type": "markdown",
   "metadata": {},
   "source": []
  }
 ],
 "metadata": {
  "kernelspec": {
   "display_name": "Python 3",
   "language": "python",
   "name": "python3"
  },
  "language_info": {
   "codemirror_mode": {
    "name": "ipython",
    "version": 3
   },
   "file_extension": ".py",
   "mimetype": "text/x-python",
   "name": "python",
   "nbconvert_exporter": "python",
   "pygments_lexer": "ipython3",
   "version": "3.8.9"
  },
  "orig_nbformat": 4
 },
 "nbformat": 4,
 "nbformat_minor": 2
}
